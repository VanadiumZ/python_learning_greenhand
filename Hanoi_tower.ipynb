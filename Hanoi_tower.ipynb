{
 "cells": [
  {
   "cell_type": "markdown",
   "id": "3c658f2f",
   "metadata": {},
   "source": [
    "**Tower of Hanoi**<br>\n",
    "write a code to describe the movement<br>\n",
    "input the number of layers and output the whole movement<p>\n",
    "_three pillar A B C, move all the layer from A to C_"
   ]
  },
  {
   "cell_type": "code",
   "execution_count": 2,
   "id": "2ea2e4b8",
   "metadata": {},
   "outputs": [
    {
     "name": "stdout",
     "output_type": "stream",
     "text": [
      "1:A-->C\n",
      "2:A-->B\n",
      "1:C-->B\n",
      "3:A-->C\n",
      "1:B-->A\n",
      "2:B-->C\n",
      "1:A-->C\n",
      "4:A-->B\n",
      "1:C-->B\n",
      "2:C-->A\n",
      "1:B-->A\n",
      "3:C-->B\n",
      "1:A-->C\n",
      "2:A-->B\n",
      "1:C-->B\n",
      "5:A-->C\n",
      "1:B-->A\n",
      "2:B-->C\n",
      "1:A-->C\n",
      "3:B-->A\n",
      "1:C-->B\n",
      "2:C-->A\n",
      "1:B-->A\n",
      "4:B-->C\n",
      "1:A-->C\n",
      "2:A-->B\n",
      "1:C-->B\n",
      "3:A-->C\n",
      "1:B-->A\n",
      "2:B-->C\n",
      "1:A-->C\n",
      "31\n"
     ]
    }
   ],
   "source": [
    "count = 0\n",
    "\n",
    "def hanoi(n, a, b, c):\n",
    "    global count\n",
    "    if n == 1:\n",
    "        print(\"{}:{}-->{}\".format(1, a, c))\n",
    "        count += 1\n",
    "    else:\n",
    "        hanoi(n-1, a, c, b)\n",
    "        print(\"{}:{}-->{}\".format(n, a, c))\n",
    "        hanoi(n-1, b, a, c)\n",
    "        count += 1\n",
    "hanoi(5,'A','B','C')\n",
    "print(count)"
   ]
  },
  {
   "cell_type": "markdown",
   "id": "4b7f417c",
   "metadata": {},
   "source": [
    "##### here we use the thought of recusion<br>\n",
    "we view _first (n-1) layers_ as a group<br>\n",
    "our basic goal is to move _group(n-1)_ to B<br>\n",
    "then move _layer n_ to C<br>\n",
    "finally move _group(n-1)_ from B to C"
   ]
  },
  {
   "cell_type": "code",
   "execution_count": null,
   "id": "9339f54a",
   "metadata": {},
   "outputs": [],
   "source": []
  }
 ],
 "metadata": {
  "kernelspec": {
   "display_name": "Python 3 (ipykernel)",
   "language": "python",
   "name": "python3"
  },
  "language_info": {
   "codemirror_mode": {
    "name": "ipython",
    "version": 3
   },
   "file_extension": ".py",
   "mimetype": "text/x-python",
   "name": "python",
   "nbconvert_exporter": "python",
   "pygments_lexer": "ipython3",
   "version": "3.11.5"
  }
 },
 "nbformat": 4,
 "nbformat_minor": 5
}
